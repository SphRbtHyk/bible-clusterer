{
 "cells": [
  {
   "cell_type": "markdown",
   "id": "51c22ea1",
   "metadata": {},
   "source": [
    "# Greek parsing"
   ]
  },
  {
   "cell_type": "code",
   "execution_count": 153,
   "id": "9eda0514",
   "metadata": {},
   "outputs": [],
   "source": [
    "from pathlib import Path\n",
    "import numpy as np\n",
    "import numpy as np\n",
    "\n",
    "from matplotlib import pyplot as plt\n",
    "from scipy.cluster.hierarchy import dendrogram, linkage, leaves_list, fcluster\n",
    "from scipy.spatial.distance import squareform\n",
    "\n",
    "import textdistance"
   ]
  },
  {
   "cell_type": "code",
   "execution_count": 154,
   "id": "0b4f65c0",
   "metadata": {},
   "outputs": [],
   "source": [
    "from urllib import request"
   ]
  },
  {
   "cell_type": "code",
   "execution_count": 155,
   "id": "0087c86a",
   "metadata": {},
   "outputs": [],
   "source": [
    "stop_words = request.urlopen(\"https://raw.githubusercontent.com/stopwords-iso/stopwords-el/master/raw/stop-words-greek.txt\").read().decode(\"utf8\").split(\"\\r\")\n",
    "stop_words = [stop_word.strip() for stop_word in stop_words if len(stop_word.strip()) > 0]"
   ]
  },
  {
   "cell_type": "code",
   "execution_count": 157,
   "id": "cc3c8f16",
   "metadata": {},
   "outputs": [],
   "source": [
    "# Load the greek text\n",
    "greek_text = dict()\n",
    "for file in Path(\"texts/sblgnt/\").glob(\"*.txt\"):\n",
    "    book = file.name.split(\"-\")[1]\n",
    "    split_text = file.read_text(encoding=\"utf8\").split(\"\\n\")\n",
    "    text = \"\"\n",
    "    for line in split_text:\n",
    "        if line:\n",
    "            word = line.split(\" \")[-1]\n",
    "#             if word not in stop_words:\n",
    "            text += word + \" \"\n",
    "    greek_text[book] = text"
   ]
  },
  {
   "cell_type": "code",
   "execution_count": 160,
   "id": "dfb9b7d5",
   "metadata": {},
   "outputs": [],
   "source": [
    "# Load the greek text\n",
    "greek_text = dict()\n",
    "for file in Path(\"texts/sblgnt/\").glob(\"*.txt\"):\n",
    "    book = file.name.split(\"-\")[1]\n",
    "    split_text = file.read_text(encoding=\"utf8\").split(\"\\n\")\n",
    "    text = \"\"\n",
    "    for line in split_text:\n",
    "        if line:\n",
    "            word = line.split(\" \")[-1]\n",
    "#             if word not in stop_words:\n",
    "            text += word + \" \"\n",
    "    greek_text[book] = text"
   ]
  },
  {
   "cell_type": "markdown",
   "id": "4d22fdff",
   "metadata": {},
   "source": [
    "# Function to plot only a list of books"
   ]
  },
  {
   "cell_type": "code",
   "execution_count": 1,
   "id": "30ad6ee8",
   "metadata": {},
   "outputs": [],
   "source": [
    "pastoral_epistles = [\"1Tim\", \"2Tim\",\"Tit\"]\n",
    "deutero_epistles = [\"Eph\", \"Col\", \"2Th\"]\n",
    "paul_epistles = [\"Ga\", \"Php\", \"1Th\", \"Phm\", \"Ro\", \"2Co\",\"1Co\"]\n",
    "not_paul_epistles = [\"1Pe\", \"2Pe\", \"Jas\", \"Jud\", \"Heb\"]\n",
    "\n",
    "gospels = [\"Mk\", \"Lk\", \"Mt\", \"Jn\"]\n",
    "acts = [\"Ac\", \"Rev\"]\n",
    "john_episles = [\"1Jn\", \"2Jn\", \"3Jn\"]"
   ]
  },
  {
   "cell_type": "code",
   "execution_count": 141,
   "id": "c5bd6209",
   "metadata": {},
   "outputs": [],
   "source": [
    "def plot_dendogram(book_list, distance, t):\n",
    "    jaccard = np.zeros(shape=(len(book_list), len(book_list)))\n",
    "    books = {k: v for k, v in greek_text.items() if k in book_list}\n",
    "    for ix_1, (book_1, text_1) in enumerate(books.items()):\n",
    "        for ix_2, (book_2, text_2) in enumerate(books.items()):\n",
    "            jaccard[ix_1, ix_2] = 1 - distance(text_1.split(\" \"), text_2.split(\" \"))\n",
    "    \n",
    "    # Calculate the distance between each sample\n",
    "    Z = linkage(squareform(jaccard), method=\"ward\")\n",
    "    book_labels = [book_list[ix] for ix in leaves_list(Z)]\n",
    "    # Plot with Custom leaves\n",
    "    dendrogram(Z, leaf_rotation=90, leaf_font_size=20, labels=book_labels, color_threshold=t)\n",
    "    [i.set_color(\"red\") for i in plt.gca().get_xticklabels() if i.get_text() in paul_epistles]\n",
    "    [i.set_color(\"green\") for i in plt.gca().get_xticklabels() if i.get_text() in not_paul_epistles]\n",
    "    [i.set_color(\"blue\") for i in plt.gca().get_xticklabels() if i.get_text() in deutero_epistles]\n",
    "    [i.set_color(\"orange\") for i in plt.gca().get_xticklabels() if i.get_text() in pastoral_epistles]\n",
    "    [i.set_color(\"pink\") for i in plt.gca().get_xticklabels() if i.get_text() in gospels]\n",
    "    [i.set_color(\"purple\") for i in plt.gca().get_xticklabels() if i.get_text() in acts]\n",
    "    [i.set_color(\"yellow\") for i in plt.gca().get_xticklabels() if i.get_text() in john_episles]\n",
    "    plt.title(f\"Distance between epistles\")\n",
    "    plt.show()"
   ]
  },
  {
   "cell_type": "code",
   "execution_count": 142,
   "id": "de0e2161",
   "metadata": {},
   "outputs": [],
   "source": [
    "def find_common_words(book_list):\n",
    "    books = [greek_text[book].split(\" \") for book in book_list]\n",
    "    texts = {book: text for book, text in greek_text.items() if book in book_list}\n",
    "    common_words = set(books[0]).intersection(*books[1:])\n",
    "    detailed_dict = dict()\n",
    "    summed_dict = dict()\n",
    "    for word in common_words:\n",
    "        if len(word) > 1:\n",
    "            detailed_dict[word] = dict()\n",
    "            summed_dict[word] = 0\n",
    "            for title, text in texts.items():\n",
    "                summed_dict[word] += text.count(word)\n",
    "                detailed_dict[word].update({title: text.count(word)})\n",
    "    return summed_dict, detailed_dict\n",
    "\n",
    "def find_uncommon_words(book_list):\n",
    "    books = [greek_text[book].split(\" \") for book in book_list]\n",
    "    texts = {book: text for book, text in greek_text.items() if book in book_list}\n",
    "    common_words = set(books[0]).symmetric_difference(*books)\n",
    "    detailed_dict = dict()\n",
    "    summed_dict = dict()\n",
    "    for word in common_words:\n",
    "        if len(word) > 1:\n",
    "            detailed_dict[word] = dict()\n",
    "            summed_dict[word] = 0\n",
    "            for title, text in texts.items():\n",
    "                summed_dict[word] += text.count(word)\n",
    "                detailed_dict[word].update({title: text.count(word)})\n",
    "    return summed_dict, detailed_dict"
   ]
  },
  {
   "cell_type": "code",
   "execution_count": 143,
   "id": "1d0ff57e",
   "metadata": {},
   "outputs": [],
   "source": [
    "def get_words_clusters(book_list, distance, t):\n",
    "    jaccard = np.zeros(shape=(len(book_list), len(book_list)))\n",
    "    books = {k: v for k, v in greek_text.items() if k in book_list}\n",
    "    for ix_1, (book_1, text_1) in enumerate(books.items()):\n",
    "        for ix_2, (book_2, text_2) in enumerate(books.items()):\n",
    "            jaccard[ix_1, ix_2] = 1 - distance(text_1.split(\" \"), text_2.split(\" \"))\n",
    "    # Calculate the distance between each sample\n",
    "    Z = linkage(squareform(jaccard), method='ward')\n",
    "    clusters = fcluster(Z, t, criterion=\"distance\")\n",
    "    words_per_cluster = dict()\n",
    "    print(f\"======== Number of clusters: {max(clusters)} =============\")\n",
    "    for cluster in np.unique(clusters):\n",
    "        books_in_cluster = np.array(book_list)[clusters == cluster]\n",
    "        summed_dict, _ = find_common_words(books_in_cluster)\n",
    "        words_per_cluster[cluster] = {k: v for k, v in sorted(summed_dict.items(), key=lambda item: item[1], reverse=True)}\n",
    "    return words_per_cluster"
   ]
  },
  {
   "cell_type": "code",
   "execution_count": 144,
   "id": "9e82d20c",
   "metadata": {},
   "outputs": [],
   "source": [
    "def get_clusters(book_list, distance, t):\n",
    "    jaccard = np.zeros(shape=(len(book_list), len(book_list)))\n",
    "    books = {k: v for k, v in greek_text.items() if k in book_list}\n",
    "    for ix_1, (book_1, text_1) in enumerate(books.items()):\n",
    "        for ix_2, (book_2, text_2) in enumerate(books.items()):\n",
    "            jaccard[ix_1, ix_2] = 1 - distance(text_1.split(\" \"), text_2.split(\" \"))\n",
    "    # Calculate the distance between each sample\n",
    "    Z = linkage(squareform(jaccard), 'complete')\n",
    "    clusters = fcluster(Z, t, criterion=\"distance\")\n",
    "    book_per_cluster = dict()\n",
    "    print(f\"======== Number of clusters: {max(clusters)} =============\")\n",
    "    for cluster in np.unique(clusters):\n",
    "        book_per_cluster[cluster] =  np.array(book_list)[clusters == cluster]\n",
    "    return book_per_cluster"
   ]
  },
  {
   "cell_type": "code",
   "execution_count": 145,
   "id": "72c1b19a",
   "metadata": {},
   "outputs": [
    {
     "name": "stdout",
     "output_type": "stream",
     "text": [
      "Red --- Pauline\n",
      "Green --- Not Pauline\n",
      "Blue --- Deutero Pauline\n",
      "Orange --- Pastoral Pauline\n"
     ]
    },
    {
     "data": {
      "image/png": "[encoded data removed]",
      "text/plain": [
       "<Figure size 1440x720 with 1 Axes>"
      ]
     },
     "metadata": {
      "needs_background": "light"
     },
     "output_type": "display_data"
    }
   ],
   "source": [
    "print(\"Red --- Pauline\")\n",
    "print(\"Green --- Not Pauline\")\n",
    "print(\"Blue --- Deutero Pauline\")\n",
    "print(\"Orange --- Pastoral Pauline\")\n",
    "\n",
    "plot_dendogram(deutero_epistles + paul_epistles, distance=textdistance.jaccard, t=1)\n"
   ]
  },
  {
   "cell_type": "code",
   "execution_count": 152,
   "id": "a4c71d82",
   "metadata": {},
   "outputs": [
    {
     "name": "stdout",
     "output_type": "stream",
     "text": [
      "Red --- Pauline\n",
      "Green --- Not Pauline\n",
      "Blue --- Deutero Pauline\n",
      "Orange --- Pastoral Pauline\n"
     ]
    },
    {
     "data": {
      "image/png": "[encoded data removed]",
      "text/plain": [
       "<Figure size 1440x720 with 1 Axes>"
      ]
     },
     "metadata": {},
     "output_type": "display_data"
    }
   ],
   "source": [
    "print(\"Red --- Pauline\")\n",
    "print(\"Green --- Not Pauline\")\n",
    "print(\"Blue --- Deutero Pauline\")\n",
    "print(\"Orange --- Pastoral Pauline\")\n",
    "\n",
    "plot_dendogram(pastoral_epistles + deutero_epistles + paul_epistles, distance=textdistance.jaccard, t=0.8)\n"
   ]
  },
  {
   "cell_type": "code",
   "execution_count": 119,
   "id": "d8667031",
   "metadata": {},
   "outputs": [
    {
     "name": "stdout",
     "output_type": "stream",
     "text": [
      "======== Number of clusters: 7 =============\n"
     ]
    },
    {
     "data": {
      "text/plain": [
       "{1: array(['2Co'], dtype='<U4'),\n",
       " 2: array(['1Co'], dtype='<U4'),\n",
       " 3: array(['1Tim'], dtype='<U4'),\n",
       " 4: array(['Eph', 'Col', '2Th', '2Tim', 'Tit'], dtype='<U4'),\n",
       " 5: array(['Php', 'Phm'], dtype='<U4'),\n",
       " 6: array(['1Th', 'Ro'], dtype='<U4'),\n",
       " 7: array(['Ga'], dtype='<U4')}"
      ]
     },
     "execution_count": 119,
     "metadata": {},
     "output_type": "execute_result"
    }
   ],
   "source": [
    "get_clusters(deutero_epistles + paul_epistles + pastoral_epistles , distance=textdistance.jaccard, t=.6)"
   ]
  },
  {
   "cell_type": "code",
   "execution_count": 83,
   "id": "4de6c07e",
   "metadata": {},
   "outputs": [
    {
     "data": {
      "text/plain": [
       "['Eph', 'Col', '2Th']"
      ]
     },
     "execution_count": 83,
     "metadata": {},
     "output_type": "execute_result"
    }
   ],
   "source": [
    "deutero_epistles"
   ]
  },
  {
   "cell_type": "code",
   "execution_count": 77,
   "id": "e071abfe",
   "metadata": {},
   "outputs": [
    {
     "data": {
      "text/plain": [
       "['Ga', 'Php', '1Th', 'Phm', 'Ro', '2Co', '1Co']"
      ]
     },
     "execution_count": 77,
     "metadata": {},
     "output_type": "execute_result"
    }
   ],
   "source": [
    "paul_epistles"
   ]
  }
 ],
 "metadata": {
  "kernelspec": {
   "display_name": "nlp_env",
   "language": "python",
   "name": "nlp_env"
  },
  "language_info": {
   "codemirror_mode": {
    "name": "ipython",
    "version": 3
   },
   "file_extension": ".py",
   "mimetype": "text/x-python",
   "name": "python",
   "nbconvert_exporter": "python",
   "pygments_lexer": "ipython3",
   "version": "3.8.8"
  }
 },
 "nbformat": 4,
 "nbformat_minor": 5
}
